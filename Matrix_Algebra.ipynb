{
  "nbformat": 4,
  "nbformat_minor": 0,
  "metadata": {
    "colab": {
      "name": "Matrix_Algebra.ipynb",
      "provenance": [],
      "authorship_tag": "ABX9TyNsaM3zycS130uVJPXD3hnR",
      "include_colab_link": true
    },
    "kernelspec": {
      "name": "python3",
      "display_name": "Python 3"
    },
    "language_info": {
      "name": "python"
    }
  },
  "cells": [
    {
      "cell_type": "markdown",
      "metadata": {
        "id": "view-in-github",
        "colab_type": "text"
      },
      "source": [
        "<a href=\"https://colab.research.google.com/github/paulrobustelli/python_demos/blob/main/Matrix_Algebra.ipynb\" target=\"_parent\"><img src=\"https://colab.research.google.com/assets/colab-badge.svg\" alt=\"Open In Colab\"/></a>"
      ]
    },
    {
      "cell_type": "code",
      "metadata": {
        "id": "Gab8Vb-9UTWg"
      },
      "source": [
        "import numpy as np\n",
        "from numpy import linalg\n",
        "from numpy.linalg import *\n",
        "import scipy\n",
        "from scipy.linalg import schur, eigvals, svd"
      ],
      "execution_count": null,
      "outputs": []
    },
    {
      "cell_type": "code",
      "metadata": {
        "id": "infC7lBWUUmN"
      },
      "source": [
        "a=np.zeros((2,2))"
      ],
      "execution_count": null,
      "outputs": []
    },
    {
      "cell_type": "code",
      "metadata": {
        "colab": {
          "base_uri": "https://localhost:8080/"
        },
        "id": "0-XhZKu_UZ89",
        "outputId": "3b9997e2-9877-4f50-e9af-86e5a90a7bdd"
      },
      "source": [
        "a"
      ],
      "execution_count": null,
      "outputs": [
        {
          "output_type": "execute_result",
          "data": {
            "text/plain": [
              "array([[0., 0.],\n",
              "       [0., 0.]])"
            ]
          },
          "metadata": {
            "tags": []
          },
          "execution_count": 3
        }
      ]
    },
    {
      "cell_type": "code",
      "metadata": {
        "colab": {
          "base_uri": "https://localhost:8080/"
        },
        "id": "kD2KFKHnUaLd",
        "outputId": "fa24a004-d006-4230-916f-1460538ffc60"
      },
      "source": [
        "a[0]"
      ],
      "execution_count": null,
      "outputs": [
        {
          "output_type": "execute_result",
          "data": {
            "text/plain": [
              "array([0., 0.])"
            ]
          },
          "metadata": {
            "tags": []
          },
          "execution_count": 4
        }
      ]
    },
    {
      "cell_type": "code",
      "metadata": {
        "colab": {
          "base_uri": "https://localhost:8080/"
        },
        "id": "c_GAZDRTUbrk",
        "outputId": "7b8480cf-a2d4-4c93-c72c-a6e5f3ee01ad"
      },
      "source": [
        "a[0]=[1,0]\n",
        "a[1]=[0,1]\n",
        "a"
      ],
      "execution_count": null,
      "outputs": [
        {
          "output_type": "execute_result",
          "data": {
            "text/plain": [
              "array([[1., 0.],\n",
              "       [0., 1.]])"
            ]
          },
          "metadata": {
            "tags": []
          },
          "execution_count": 5
        }
      ]
    },
    {
      "cell_type": "code",
      "metadata": {
        "colab": {
          "base_uri": "https://localhost:8080/"
        },
        "id": "Iv0sTGexUdq9",
        "outputId": "1a1f914e-14d6-4326-fa1d-b9eb34f11e08"
      },
      "source": [
        "a = np.array([[1,2],[3,4]]) \n",
        "b = np.array([[2,4],[6,8]])\n",
        "print(a)\n",
        "print(b)"
      ],
      "execution_count": null,
      "outputs": [
        {
          "output_type": "stream",
          "text": [
            "[[1 2]\n",
            " [3 4]]\n",
            "[[2 4]\n",
            " [6 8]]\n"
          ],
          "name": "stdout"
        }
      ]
    },
    {
      "cell_type": "code",
      "metadata": {
        "colab": {
          "base_uri": "https://localhost:8080/"
        },
        "id": "ETeWq9EiWRds",
        "outputId": "953dbf73-0d46-42f1-8e4f-68b21e1fd6f7"
      },
      "source": [
        "print(a)\n",
        "det(a)"
      ],
      "execution_count": null,
      "outputs": [
        {
          "output_type": "stream",
          "text": [
            "[[1 2]\n",
            " [3 4]]\n"
          ],
          "name": "stdout"
        },
        {
          "output_type": "execute_result",
          "data": {
            "text/plain": [
              "-2.0000000000000004"
            ]
          },
          "metadata": {
            "tags": []
          },
          "execution_count": 7
        }
      ]
    },
    {
      "cell_type": "code",
      "metadata": {
        "colab": {
          "base_uri": "https://localhost:8080/"
        },
        "id": "pW50dBDNWSpd",
        "outputId": "34b525bc-c88d-49d6-eada-c3a63327cada"
      },
      "source": [
        "print(b)\n",
        "det(b)"
      ],
      "execution_count": null,
      "outputs": [
        {
          "output_type": "stream",
          "text": [
            "[[2 4]\n",
            " [6 8]]\n"
          ],
          "name": "stdout"
        },
        {
          "output_type": "execute_result",
          "data": {
            "text/plain": [
              "-8.000000000000002"
            ]
          },
          "metadata": {
            "tags": []
          },
          "execution_count": 8
        }
      ]
    },
    {
      "cell_type": "code",
      "metadata": {
        "colab": {
          "base_uri": "https://localhost:8080/"
        },
        "id": "Jy6pzx-aWYfG",
        "outputId": "94e74321-fd0f-44b0-9290-f4df804996bb"
      },
      "source": [
        "print(a)\n",
        "print(b)\n",
        "np.dot(a,b)"
      ],
      "execution_count": null,
      "outputs": [
        {
          "output_type": "stream",
          "text": [
            "[[1 2]\n",
            " [3 4]]\n",
            "[[2 4]\n",
            " [6 8]]\n"
          ],
          "name": "stdout"
        },
        {
          "output_type": "execute_result",
          "data": {
            "text/plain": [
              "array([[14, 20],\n",
              "       [30, 44]])"
            ]
          },
          "metadata": {
            "tags": []
          },
          "execution_count": 9
        }
      ]
    },
    {
      "cell_type": "code",
      "metadata": {
        "colab": {
          "base_uri": "https://localhost:8080/"
        },
        "id": "R5MU7HyaU5-9",
        "outputId": "18b70d9a-27a7-4154-ef43-3d0108804a17"
      },
      "source": [
        "c=np.linalg.inv(a)\n",
        "print(c)"
      ],
      "execution_count": null,
      "outputs": [
        {
          "output_type": "stream",
          "text": [
            "[[-2.   1. ]\n",
            " [ 1.5 -0.5]]\n"
          ],
          "name": "stdout"
        }
      ]
    },
    {
      "cell_type": "code",
      "metadata": {
        "colab": {
          "base_uri": "https://localhost:8080/"
        },
        "id": "YbNhvZKPVbVk",
        "outputId": "0a6ee16e-f062-4310-c5ae-78a4cd88cd0c"
      },
      "source": [
        "np.dot(a,c)"
      ],
      "execution_count": null,
      "outputs": [
        {
          "output_type": "execute_result",
          "data": {
            "text/plain": [
              "array([[1.0000000e+00, 0.0000000e+00],\n",
              "       [8.8817842e-16, 1.0000000e+00]])"
            ]
          },
          "metadata": {
            "tags": []
          },
          "execution_count": 11
        }
      ]
    },
    {
      "cell_type": "code",
      "metadata": {
        "colab": {
          "base_uri": "https://localhost:8080/"
        },
        "id": "mrlkkyMqbQgU",
        "outputId": "342713de-123c-420f-955a-8e3c3e911cf1"
      },
      "source": [
        "M=np.array([[-6,3],[4,5]])\n",
        "M"
      ],
      "execution_count": null,
      "outputs": [
        {
          "output_type": "execute_result",
          "data": {
            "text/plain": [
              "array([[-6,  3],\n",
              "       [ 4,  5]])"
            ]
          },
          "metadata": {
            "tags": []
          },
          "execution_count": 12
        }
      ]
    },
    {
      "cell_type": "code",
      "metadata": {
        "colab": {
          "base_uri": "https://localhost:8080/"
        },
        "id": "wnQgQhLHfgvg",
        "outputId": "491d2a81-f2a8-4d47-81a0-6e033f0f8368"
      },
      "source": [
        "eigvec1=np.array([1,4])\n",
        "M1=np.dot(M,eigvec1)\n",
        "print(\"M1\",M1)\n",
        "eigvec1*6\n",
        "#Therefore 6 is the eigenvalue and [1,4] is an eigenvector "
      ],
      "execution_count": null,
      "outputs": [
        {
          "output_type": "stream",
          "text": [
            "M1 [ 6 24]\n"
          ],
          "name": "stdout"
        },
        {
          "output_type": "execute_result",
          "data": {
            "text/plain": [
              "array([ 6, 24])"
            ]
          },
          "metadata": {
            "tags": []
          },
          "execution_count": 13
        }
      ]
    },
    {
      "cell_type": "code",
      "metadata": {
        "colab": {
          "base_uri": "https://localhost:8080/"
        },
        "id": "SBHsesFufzdb",
        "outputId": "f2b3c041-45ad-411e-c574-6a9ccb7d2bb3"
      },
      "source": [
        "#Show how to find eigenvectors and eigenvalues manually\n",
        "eigvals,eigvecs=np.linalg.eig(M)\n",
        "print(eigvals)\n",
        "D=np.array([[6,0],[0,-7]])\n",
        "P=np.array([[1,-3],[4,1]])\n",
        "print(eigvecs)\n",
        "print(D)\n",
        "print(P)\n",
        "Pinv=inv(P)\n",
        "print(Pinv)\n",
        "np.dot(np.dot(P,D),Pinv)\n",
        "#print(eigvecs[0])\n",
        "#print(eigvecs[1])\n",
        "#L,X=schur(M)\n",
        "#print(\"L:\",L)\n",
        "#print(\"X:\",X)"
      ],
      "execution_count": null,
      "outputs": [
        {
          "output_type": "stream",
          "text": [
            "[-7.  6.]\n",
            "[[-0.9486833  -0.24253563]\n",
            " [ 0.31622777 -0.9701425 ]]\n",
            "[[ 6  0]\n",
            " [ 0 -7]]\n",
            "[[ 1 -3]\n",
            " [ 4  1]]\n",
            "[[ 0.07692308  0.23076923]\n",
            " [-0.30769231  0.07692308]]\n"
          ],
          "name": "stdout"
        },
        {
          "output_type": "execute_result",
          "data": {
            "text/plain": [
              "array([[-6.,  3.],\n",
              "       [ 4.,  5.]])"
            ]
          },
          "metadata": {
            "tags": []
          },
          "execution_count": 14
        }
      ]
    },
    {
      "cell_type": "code",
      "metadata": {
        "colab": {
          "base_uri": "https://localhost:8080/"
        },
        "id": "Z0m31uO8rEid",
        "outputId": "c30424f5-68c2-48a5-d4c0-cfe705d3e2e4"
      },
      "source": [
        "print(M)\n",
        "eigvals,eigvecs=np.linalg.eig(M)\n",
        "print(eigvals)\n",
        "print(eigvals[0])\n",
        "print(eigvals[1])"
      ],
      "execution_count": null,
      "outputs": [
        {
          "output_type": "stream",
          "text": [
            "[[-6  3]\n",
            " [ 4  5]]\n",
            "[-7.  6.]\n",
            "-7.0\n",
            "6.0\n"
          ],
          "name": "stdout"
        }
      ]
    },
    {
      "cell_type": "code",
      "metadata": {
        "id": "LRd87xITWOMM"
      },
      "source": [
        "a=np.zeros((4,4))\n",
        "a[0]=[0,1,0,0]\n",
        "a[1]=[1,0,1,0]\n",
        "a[2]=[0,1,0,1]\n",
        "a[3]=[0,0,1,0]"
      ],
      "execution_count": null,
      "outputs": []
    },
    {
      "cell_type": "code",
      "metadata": {
        "colab": {
          "base_uri": "https://localhost:8080/"
        },
        "id": "T51Wg4PBY612",
        "outputId": "dff06712-074b-46aa-fb68-c015e6569fa1"
      },
      "source": [
        "a"
      ],
      "execution_count": null,
      "outputs": [
        {
          "output_type": "execute_result",
          "data": {
            "text/plain": [
              "array([[0., 1., 0., 0.],\n",
              "       [1., 0., 1., 0.],\n",
              "       [0., 1., 0., 1.],\n",
              "       [0., 0., 1., 0.]])"
            ]
          },
          "metadata": {
            "tags": []
          },
          "execution_count": 17
        }
      ]
    },
    {
      "cell_type": "code",
      "metadata": {
        "colab": {
          "base_uri": "https://localhost:8080/"
        },
        "id": "WXNyph3MZEKM",
        "outputId": "a944dacf-1a3e-4946-8317-ca1f7fc750a7"
      },
      "source": [
        "T,Z = schur(a)\n",
        "np.around(T,decimals=3)"
      ],
      "execution_count": null,
      "outputs": [
        {
          "output_type": "execute_result",
          "data": {
            "text/plain": [
              "array([[-1.618, -0.   ,  0.   , -0.   ],\n",
              "       [ 0.   , -0.618,  0.   ,  0.   ],\n",
              "       [ 0.   ,  0.   ,  1.618, -0.   ],\n",
              "       [ 0.   ,  0.   ,  0.   ,  0.618]])"
            ]
          },
          "metadata": {
            "tags": []
          },
          "execution_count": 24
        }
      ]
    },
    {
      "cell_type": "code",
      "metadata": {
        "colab": {
          "base_uri": "https://localhost:8080/"
        },
        "id": "QcTbfA_TZQD7",
        "outputId": "9496e13b-6b1a-46b7-bf84-cec810506307"
      },
      "source": [
        "np.around(Z,decimals=3)"
      ],
      "execution_count": null,
      "outputs": [
        {
          "output_type": "execute_result",
          "data": {
            "text/plain": [
              "array([[ 0.372,  0.602, -0.372, -0.602],\n",
              "       [-0.602, -0.372, -0.602, -0.372],\n",
              "       [ 0.602, -0.372, -0.602,  0.372],\n",
              "       [-0.372,  0.602, -0.372,  0.602]])"
            ]
          },
          "metadata": {
            "tags": []
          },
          "execution_count": 25
        }
      ]
    },
    {
      "cell_type": "code",
      "metadata": {
        "id": "JXRKut9oaLv8",
        "colab": {
          "base_uri": "https://localhost:8080/"
        },
        "outputId": "f1a5710d-960d-4e69-ca7b-d6501bb99069"
      },
      "source": [
        "a"
      ],
      "execution_count": null,
      "outputs": [
        {
          "output_type": "execute_result",
          "data": {
            "text/plain": [
              "array([[0., 1., 0., 0.],\n",
              "       [1., 0., 1., 0.],\n",
              "       [0., 1., 0., 1.],\n",
              "       [0., 0., 1., 0.]])"
            ]
          },
          "metadata": {
            "tags": []
          },
          "execution_count": 26
        }
      ]
    },
    {
      "cell_type": "code",
      "metadata": {
        "colab": {
          "base_uri": "https://localhost:8080/"
        },
        "id": "iYC4HS4masaE",
        "outputId": "27750097-df9e-442c-d0c8-a1152c98fabe"
      },
      "source": [
        "#cyclobutadiene\n",
        "a=np.zeros((4,4))\n",
        "a[0]=[0,1,0,1]\n",
        "a[1]=[1,0,1,0]\n",
        "a[2]=[0,1,0,1]\n",
        "a[3]=[1,0,1,0]\n",
        "T, Z = schur(a)\n",
        "np.around(T,decimals=3)"
      ],
      "execution_count": null,
      "outputs": [
        {
          "output_type": "execute_result",
          "data": {
            "text/plain": [
              "array([[-2., -0., -0., -0.],\n",
              "       [ 0.,  0., -0.,  0.],\n",
              "       [ 0.,  0.,  2.,  0.],\n",
              "       [ 0.,  0.,  0.,  0.]])"
            ]
          },
          "metadata": {
            "tags": []
          },
          "execution_count": 27
        }
      ]
    },
    {
      "cell_type": "code",
      "metadata": {
        "colab": {
          "base_uri": "https://localhost:8080/"
        },
        "id": "uQW37TtMvrTZ",
        "outputId": "488e81cd-21e5-41ef-ba21-69dfe4027480"
      },
      "source": [
        "np.around(Z,decimals=3)"
      ],
      "execution_count": null,
      "outputs": [
        {
          "output_type": "execute_result",
          "data": {
            "text/plain": [
              "array([[ 0.5  , -0.707,  0.5  ,  0.   ],\n",
              "       [-0.5  , -0.   ,  0.5  , -0.707],\n",
              "       [ 0.5  ,  0.707,  0.5  ,  0.   ],\n",
              "       [-0.5  , -0.   ,  0.5  ,  0.707]])"
            ]
          },
          "metadata": {
            "tags": []
          },
          "execution_count": 28
        }
      ]
    },
    {
      "cell_type": "code",
      "metadata": {
        "colab": {
          "base_uri": "https://localhost:8080/"
        },
        "id": "2fSOWsUcv290",
        "outputId": "72306256-31e3-4b2f-afdc-6ce61e88ec32"
      },
      "source": [
        "#Benzene:\n",
        "#cyclobutadiene\n",
        "a=np.zeros((6,6))\n",
        "a[0]=[0,1,0,0,0,1]\n",
        "a[1]=[1,0,1,0,0,0]\n",
        "a[2]=[0,1,0,1,0,0]\n",
        "a[3]=[0,0,1,0,1,0]\n",
        "a[4]=[0,0,0,1,0,1]\n",
        "a[5]=[1,0,0,0,1,0]\n",
        "\n",
        "T, Z = schur(a)\n",
        "np.around(T,decimals=3)"
      ],
      "execution_count": null,
      "outputs": [
        {
          "output_type": "execute_result",
          "data": {
            "text/plain": [
              "array([[-2.,  0.,  0., -0., -0.,  0.],\n",
              "       [ 0.,  2., -0., -0., -0.,  0.],\n",
              "       [ 0.,  0.,  1., -0.,  0., -0.],\n",
              "       [ 0.,  0.,  0., -1.,  0., -0.],\n",
              "       [ 0.,  0.,  0.,  0., -1., -0.],\n",
              "       [ 0.,  0.,  0.,  0.,  0.,  1.]])"
            ]
          },
          "metadata": {
            "tags": []
          },
          "execution_count": 29
        }
      ]
    },
    {
      "cell_type": "code",
      "metadata": {
        "colab": {
          "base_uri": "https://localhost:8080/"
        },
        "id": "KGHz-57gw4pj",
        "outputId": "d31a2fbd-b0c1-461f-a780-bfcaf39c9bb5"
      },
      "source": [
        "np.around(Z,decimals=3)"
      ],
      "execution_count": null,
      "outputs": [
        {
          "output_type": "execute_result",
          "data": {
            "text/plain": [
              "array([[ 0.408, -0.408, -0.577,  0.577, -0.006,  0.   ],\n",
              "       [-0.408, -0.408, -0.289, -0.294, -0.497, -0.5  ],\n",
              "       [ 0.408, -0.408,  0.289, -0.284,  0.503, -0.5  ],\n",
              "       [-0.408, -0.408,  0.577,  0.577, -0.006, -0.   ],\n",
              "       [ 0.408, -0.408,  0.289, -0.294, -0.497,  0.5  ],\n",
              "       [-0.408, -0.408, -0.289, -0.284,  0.503,  0.5  ]])"
            ]
          },
          "metadata": {
            "tags": []
          },
          "execution_count": 30
        }
      ]
    },
    {
      "cell_type": "code",
      "metadata": {
        "id": "WD2dbCS0xdM9"
      },
      "source": [
        "a=np.zeros((3,3))\n",
        "a[0]=[-7.2,-1.0,-0.8]\n",
        "a[1]=[-1,-10.4,0]\n",
        "a[2]=[-0.8,0,-8.4]"
      ],
      "execution_count": null,
      "outputs": []
    },
    {
      "cell_type": "code",
      "metadata": {
        "id": "bzWrruGbFrGG",
        "colab": {
          "base_uri": "https://localhost:8080/"
        },
        "outputId": "c2edbcda-6bb0-46b1-af7d-251cb125d18d"
      },
      "source": [
        "a"
      ],
      "execution_count": null,
      "outputs": [
        {
          "output_type": "execute_result",
          "data": {
            "text/plain": [
              "array([[ -7.2,  -1. ,  -0.8],\n",
              "       [ -1. , -10.4,   0. ],\n",
              "       [ -0.8,   0. ,  -8.4]])"
            ]
          },
          "metadata": {
            "tags": []
          },
          "execution_count": 32
        }
      ]
    },
    {
      "cell_type": "code",
      "metadata": {
        "colab": {
          "base_uri": "https://localhost:8080/"
        },
        "id": "5PERBdUSFn1B",
        "outputId": "c5b8844b-f7cf-477c-d5f0-827b64c09553"
      },
      "source": [
        "T, Z = schur(a)\n",
        "np.around(T,decimals=3)"
      ],
      "execution_count": null,
      "outputs": [
        {
          "output_type": "execute_result",
          "data": {
            "text/plain": [
              "array([[ -6.585,  -0.   ,   0.   ],\n",
              "       [  0.   , -10.709,   0.   ],\n",
              "       [  0.   ,   0.   ,  -8.705]])"
            ]
          },
          "metadata": {
            "tags": []
          },
          "execution_count": 5
        }
      ]
    },
    {
      "cell_type": "code",
      "metadata": {
        "colab": {
          "base_uri": "https://localhost:8080/"
        },
        "id": "GqK9zUrMhZrQ",
        "outputId": "e0cc0718-4920-4400-8564-ccbdde29fe94"
      },
      "source": [
        "a"
      ],
      "execution_count": null,
      "outputs": [
        {
          "output_type": "execute_result",
          "data": {
            "text/plain": [
              "array([[ -7.2,  -1. ,  -0.8],\n",
              "       [ -1. , -10.4,   0. ],\n",
              "       [ -0.8,   0. ,  -8.4]])"
            ]
          },
          "metadata": {
            "tags": []
          },
          "execution_count": 33
        }
      ]
    },
    {
      "cell_type": "code",
      "metadata": {
        "id": "3bjvUP3DFuPn",
        "colab": {
          "base_uri": "https://localhost:8080/"
        },
        "outputId": "10618d78-174c-4701-d729-b91bd90023ff"
      },
      "source": [
        ""
      ],
      "execution_count": null,
      "outputs": [
        {
          "output_type": "execute_result",
          "data": {
            "text/plain": [
              "array([[-2., -0., -0., -0.],\n",
              "       [ 0.,  0., -0.,  0.],\n",
              "       [ 0.,  0.,  2.,  0.],\n",
              "       [ 0.,  0.,  0.,  0.]])"
            ]
          },
          "metadata": {
            "tags": []
          },
          "execution_count": 34
        }
      ]
    },
    {
      "cell_type": "code",
      "metadata": {
        "id": "q2KBm-qghfAU"
      },
      "source": [
        "a=np.zeros((3,3))\n",
        "a[0]=[0,1,1]\n",
        "a[1]=[1,0,1]\n",
        "a[2]=[1,1,0]\n"
      ],
      "execution_count": null,
      "outputs": []
    },
    {
      "cell_type": "code",
      "metadata": {
        "colab": {
          "base_uri": "https://localhost:8080/"
        },
        "id": "L7Pbi7LXhivz",
        "outputId": "d95b8574-c57e-4e03-9d35-1800b5c77c00"
      },
      "source": [
        "a"
      ],
      "execution_count": null,
      "outputs": [
        {
          "output_type": "execute_result",
          "data": {
            "text/plain": [
              "array([[0., 1., 1.],\n",
              "       [1., 0., 1.],\n",
              "       [1., 1., 0.]])"
            ]
          },
          "metadata": {
            "tags": []
          },
          "execution_count": 20
        }
      ]
    },
    {
      "cell_type": "code",
      "metadata": {
        "colab": {
          "base_uri": "https://localhost:8080/"
        },
        "id": "NpOD6-PShi-T",
        "outputId": "347165b3-d1df-4abf-fdce-93b722dd307e"
      },
      "source": [
        "T,Z = schur(a)\n",
        "np.around(T,decimals=3)"
      ],
      "execution_count": null,
      "outputs": [
        {
          "output_type": "execute_result",
          "data": {
            "text/plain": [
              "array([[-1.,  0., -0.],\n",
              "       [ 0.,  2., -0.],\n",
              "       [ 0.,  0., -1.]])"
            ]
          },
          "metadata": {
            "tags": []
          },
          "execution_count": 21
        }
      ]
    },
    {
      "cell_type": "code",
      "metadata": {
        "id": "2JcNJLCHhnEF",
        "colab": {
          "base_uri": "https://localhost:8080/"
        },
        "outputId": "611d7232-181d-40d4-f84a-1889d8556014"
      },
      "source": [
        "np.around(Z,decimals=3)"
      ],
      "execution_count": null,
      "outputs": [
        {
          "output_type": "execute_result",
          "data": {
            "text/plain": [
              "array([[-0.816,  0.577,  0.   ],\n",
              "       [ 0.408,  0.577, -0.707],\n",
              "       [ 0.408,  0.577,  0.707]])"
            ]
          },
          "metadata": {
            "tags": []
          },
          "execution_count": 24
        }
      ]
    },
    {
      "cell_type": "code",
      "metadata": {
        "id": "EQRP-9sajQqk"
      },
      "source": [
        ""
      ],
      "execution_count": null,
      "outputs": []
    }
  ]
}