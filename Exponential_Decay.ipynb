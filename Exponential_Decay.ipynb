{
  "nbformat": 4,
  "nbformat_minor": 0,
  "metadata": {
    "colab": {
      "provenance": [],
      "authorship_tag": "ABX9TyPj5UBFdV4RUevnufddiR2u",
      "include_colab_link": true
    },
    "kernelspec": {
      "name": "python3",
      "display_name": "Python 3"
    },
    "language_info": {
      "name": "python"
    }
  },
  "cells": [
    {
      "cell_type": "markdown",
      "metadata": {
        "id": "view-in-github",
        "colab_type": "text"
      },
      "source": [
        "<a href=\"https://colab.research.google.com/github/paulrobustelli/python_demos/blob/main/Exponential_Decay.ipynb\" target=\"_parent\"><img src=\"https://colab.research.google.com/assets/colab-badge.svg\" alt=\"Open In Colab\"/></a>"
      ]
    },
    {
      "cell_type": "code",
      "execution_count": 1,
      "metadata": {
        "id": "XY0T5BxcEyWZ"
      },
      "outputs": [],
      "source": [
        "import numpy as np\n",
        "from scipy.optimize import curve_fit\n",
        "\n",
        "def exponential_decay(t, k):\n",
        "    \"\"\"\n",
        "    Calculate the exponential decay for a given time and rate constant.\n",
        "\n",
        "    Parameters:\n",
        "    t (array-like): The time values.\n",
        "    k (float): The rate constant.\n",
        "\n",
        "    Returns:\n",
        "    array: The exponential decay values.\n",
        "    \"\"\"\n",
        "    return np.exp(-k*t)\n",
        "\n",
        "def fit_rate_constant(t, y):\n",
        "    \"\"\"\n",
        "    Fit the rate constant for an exponential decay curve.\n",
        "\n",
        "    Parameters:\n",
        "    t (array-like): The time values.\n",
        "    y (array-like): The exponential decay values.\n",
        "\n",
        "    Returns:\n",
        "    float: The rate constant.\n",
        "    \"\"\"\n",
        "    popt, pcov = curve_fit(exponential_decay, t, y)\n",
        "    return popt[0]"
      ]
    },
    {
      "cell_type": "code",
      "source": [
        "#Add you time points here\n",
        "t = [0, 1, 2, 3, 4, 5]\n",
        "#Add your concentrations here\n",
        "y = [1, 0.5, 0.25, 0.125, 0.0625, 0.03125]\n",
        "\n",
        "rate_constant = fit_rate_constant(t, y)\n",
        "print(\"Rate constant: \", rate_constant)"
      ],
      "metadata": {
        "colab": {
          "base_uri": "https://localhost:8080/"
        },
        "id": "zG70QX-6E3k2",
        "outputId": "868208ca-67eb-4cd2-8b7e-4af8ccb7071c"
      },
      "execution_count": 2,
      "outputs": [
        {
          "output_type": "stream",
          "name": "stdout",
          "text": [
            "Rate constant:  0.6931471805599453\n"
          ]
        }
      ]
    },
    {
      "cell_type": "code",
      "source": [],
      "metadata": {
        "id": "eBBsN2SFE4Vt"
      },
      "execution_count": null,
      "outputs": []
    }
  ]
}